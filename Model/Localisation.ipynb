{
 "cells": [
  {
   "cell_type": "code",
   "execution_count": 1,
   "metadata": {},
   "outputs": [
    {
     "name": "stdout",
     "output_type": "stream",
     "text": [
      "['France', 'USA', 'Japon']\n",
      "Votre Nation :France\n",
      "Votre site :Sud\n",
      "Continuez\n",
      "\n",
      "la capacité d'installation de pv : 5\n",
      "votre capacité d'installation de pv est de 5 kWc\n"
     ]
    }
   ],
   "source": [
    "l = ['France', 'USA', 'Japon']\n",
    "print(l)\n",
    "p = str(input(\"Votre Nation :\"))\n",
    "if p != l[0]:\n",
    "    print('Terminé')\n",
    "else:\n",
    "    site = ['Sud', 'Nord']\n",
    "    s = str(input(\"Votre site :\"))\n",
    "    while s not in site:\n",
    "        s = str(input(\"Votre site :\"))\n",
    "    print('Continuez')\n",
    "print()\n",
    "capacite = int(input(\"la capacité d'installation de pv : \"))\n",
    "print(\"votre capacité d'installation de pv est de\",capacite,'kWc')"
   ]
  },
  {
   "cell_type": "markdown",
   "metadata": {},
   "source": [
    "Programme de Production de donées"
   ]
  },
  {
   "cell_type": "code",
   "execution_count": 2,
   "metadata": {},
   "outputs": [
    {
     "name": "stdout",
     "output_type": "stream",
     "text": [
      "Les données du sud\n"
     ]
    }
   ],
   "source": [
    "if s == site[0]:\n",
    "    print('Les données du sud')\n",
    "else:\n",
    "    print('Les données du nord')"
   ]
  },
  {
   "cell_type": "code",
   "execution_count": null,
   "metadata": {},
   "outputs": [],
   "source": []
  }
 ],
 "metadata": {
  "kernelspec": {
   "display_name": "Python 3",
   "language": "python",
   "name": "python3"
  },
  "language_info": {
   "codemirror_mode": {
    "name": "ipython",
    "version": 3
   },
   "file_extension": ".py",
   "mimetype": "text/x-python",
   "name": "python",
   "nbconvert_exporter": "python",
   "pygments_lexer": "ipython3",
   "version": "3.7.6"
  }
 },
 "nbformat": 4,
 "nbformat_minor": 4
}
